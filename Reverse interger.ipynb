{
 "cells": [
  {
   "cell_type": "markdown",
   "metadata": {},
   "source": [
    "#Solution I"
   ]
  },
  {
   "cell_type": "markdown",
   "metadata": {},
   "source": [
    "use ```Python```'s built-in ```str``` and ```int``` function. In ```Python```, there should not be overflow problems, but I check it anyway. "
   ]
  },
  {
   "cell_type": "code",
   "execution_count": null,
   "metadata": {
    "collapsed": true
   },
   "outputs": [],
   "source": [
    "def compare_int_str(x, max_int):\n",
    "    \n",
    "    if int(x[0]) > max_int[0]:\n",
    "        return True\n",
    "    if int(x[0]) < max_int[0]:\n",
    "        return False\n",
    "    \n",
    "    return compare_int_str(x[1:], max_int[1:])\n",
    "\n",
    "\n",
    "def is_overflow(x, negative):\n",
    "    max_int = [2,1,4,7,4,8,3,6,4,7]\n",
    "    \n",
    "    if len(x) > len(max_int):\n",
    "        return True\n",
    "    \n",
    "    if len(x) < len(max_int):\n",
    "        return False\n",
    "        \n",
    "    if negative:\n",
    "        max_int[-1] += 1\n",
    "    \n",
    "    return compare_int_str(x, max_int)\n",
    "\n",
    "class Solution:\n",
    "    # @param {integer} x\n",
    "    # @return {integer}\n",
    "    def reverse(self, x):\n",
    "        xstr = str(x)\n",
    "        if x < 0:\n",
    "            xstr = xstr[1:]\n",
    "            xstr = xstr.lstrip('0')\n",
    "            xstr = xstr[::-1]\n",
    "            if is_overflow(xstr, True):\n",
    "                return 0\n",
    "            return -1 * int(xstr)\n",
    "        else:\n",
    "            xstr = xstr[::-1]\n",
    "            if is_overflow(xstr, False):\n",
    "                return 0\n",
    "            return int(xstr)"
   ]
  },
  {
   "cell_type": "markdown",
   "metadata": {},
   "source": [
    "#Solution II"
   ]
  },
  {
   "cell_type": "markdown",
   "metadata": {},
   "source": [
    "Do not use any ```Python``` specific utilities"
   ]
  },
  {
   "cell_type": "code",
   "execution_count": null,
   "metadata": {
    "collapsed": true
   },
   "outputs": [],
   "source": [
    "def reverse(x):\n",
    "    \n",
    "    positive = True\n",
    "    if x < 0:\n",
    "        x = -x\n",
    "        positive = False\n",
    "    \n",
    "    rev = 0\n",
    "    \n",
    "    # get the smallest digit out of x\n",
    "    \n",
    "    while x != 0:\n",
    "        rev = rev * 10 + x % 10\n",
    "        \n",
    "        # check for overflow\n",
    "        if x < 10:\n",
    "            if rev > 214748364:\n",
    "                return 0\n",
    "    \n",
    "    if positive:\n",
    "        return rev\n",
    "    else:\n",
    "        return -rev"
   ]
  }
 ],
 "metadata": {
  "kernelspec": {
   "display_name": "Python 2",
   "language": "python",
   "name": "python2"
  },
  "language_info": {
   "codemirror_mode": {
    "name": "ipython",
    "version": 2
   },
   "file_extension": ".py",
   "mimetype": "text/x-python",
   "name": "python",
   "nbconvert_exporter": "python",
   "pygments_lexer": "ipython2",
   "version": "2.7.10"
  }
 },
 "nbformat": 4,
 "nbformat_minor": 0
}
