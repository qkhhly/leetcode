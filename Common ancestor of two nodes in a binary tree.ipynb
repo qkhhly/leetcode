{
 "cells": [
  {
   "cell_type": "markdown",
   "metadata": {},
   "source": [
    "This is from the book ***Cracking the code interview***\n",
    "> design an algorithm to find the first common ancestor of two nodes in a binary tree"
   ]
  },
  {
   "cell_type": "code",
   "execution_count": null,
   "metadata": {
    "collapsed": true
   },
   "outputs": [],
   "source": [
    "# Definition for a binary tree node.\n",
    "class TreeNode:\n",
    "    def __init__(self, x):\n",
    "        self.val = x\n",
    "        self.left = None\n",
    "        self.right = None\n",
    "    \n",
    "    def __eq__(self, y):\n",
    "        if isinstance(y, self.__class__) and y.val == self.val:\n",
    "            return True\n",
    "        else:\n",
    "            return False\n",
    "    \n",
    "    def __ne__(self, y):\n",
    "        return not self.__eq__(y)"
   ]
  },
  {
   "cell_type": "markdown",
   "metadata": {},
   "source": [
    "Here uses a \"bubble find\" approach, find the given nodes using a in-order find approach, if found, the node will be returned to the outer level recursion (bubbled up). When both nodes are bubbled up and meet each other, we find the common ancestor."
   ]
  },
  {
   "cell_type": "code",
   "execution_count": null,
   "metadata": {
    "collapsed": true
   },
   "outputs": [],
   "source": [
    "def find_common_ancestor(root, p, q):\n",
    "    \n",
    "    if root is None:\n",
    "        return None\n",
    "    \n",
    "    x = find_common_ancestor(root.left, p, q)\n",
    "    y = find_common_ancestor(root.right, p, q)\n",
    "    \n",
    "    # if neither x, y is None, that means p and q are on different branches of root, then the common ancestor is root\n",
    "    if x is not None and y is not None:\n",
    "        return root\n",
    "    \n",
    "    # if one of x and y is not None, then one of p and q is found at one of the branches, \n",
    "    # we will return the one that is not None, unless the root is one of the nodes we are looking for\n",
    "    if root is p or root is q:\n",
    "        return root\n",
    "    \n",
    "    return x if x is not None else y"
   ]
  }
 ],
 "metadata": {
  "kernelspec": {
   "display_name": "Python 2",
   "language": "python",
   "name": "python2"
  },
  "language_info": {
   "codemirror_mode": {
    "name": "ipython",
    "version": 2
   },
   "file_extension": ".py",
   "mimetype": "text/x-python",
   "name": "python",
   "nbconvert_exporter": "python",
   "pygments_lexer": "ipython2",
   "version": "2.7.10"
  }
 },
 "nbformat": 4,
 "nbformat_minor": 0
}
