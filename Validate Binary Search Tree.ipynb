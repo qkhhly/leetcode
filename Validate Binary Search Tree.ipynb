{
 "cells": [
  {
   "cell_type": "markdown",
   "metadata": {},
   "source": [
    "> Given a binary tree, determine if it is a valid binary search tree (BST).\n",
    "\n",
    "> Assume a BST is defined as follows:\n",
    "\n",
    "> * The left subtree of a node contains only nodes with keys less than the node's key.\n",
    "> * The right subtree of a node contains only nodes with keys greater than the node's key.\n",
    "> * Both the left and right subtrees must also be binary search trees."
   ]
  },
  {
   "cell_type": "markdown",
   "metadata": {},
   "source": [
    "## Solution I\n",
    "Recursively check if the subtrees satisfy left < root < right"
   ]
  },
  {
   "cell_type": "markdown",
   "metadata": {},
   "source": [
    "***All nodes in the left must be less than the root and all nodes in the right must be greater than root, So this solution is not going to work***"
   ]
  },
  {
   "cell_type": "code",
   "execution_count": null,
   "metadata": {
    "collapsed": true
   },
   "outputs": [],
   "source": [
    "# Definition for a binary tree node.\n",
    "# class TreeNode:\n",
    "#     def __init__(self, x):\n",
    "#         self.val = x\n",
    "#         self.left = None\n",
    "#         self.right = None\n",
    "\n",
    "class Solution:\n",
    "    # @param {TreeNode} root\n",
    "    # @return {boolean}\n",
    "    def isValidBST(self, root):\n",
    "        \n",
    "        if root is None:\n",
    "            return True\n",
    "        \n",
    "        if root.left is None and root.right is None:\n",
    "            return True\n",
    "        else:\n",
    "            if root.left is not None:\n",
    "                if root.left.val >= root.val:\n",
    "                    return False\n",
    "            \n",
    "            if root.right is not None:\n",
    "                if root.right.val <= root.val:\n",
    "                    return False\n",
    "            \n",
    "            return self.isValidBST(root.right) and self.isValidBST(root.left)"
   ]
  },
  {
   "cell_type": "markdown",
   "metadata": {},
   "source": [
    "## Solution II"
   ]
  },
  {
   "cell_type": "markdown",
   "metadata": {},
   "source": [
    "Transverse the binary tree in order and check the resulting array is sorted or not"
   ]
  },
  {
   "cell_type": "code",
   "execution_count": null,
   "metadata": {
    "collapsed": true
   },
   "outputs": [],
   "source": [
    "def inorder(root, array):\n",
    "    \n",
    "    if root is None:\n",
    "        return None\n",
    "    \n",
    "    inorder(root.left, array)\n",
    "    array.append(root.val)\n",
    "    inorder(root.right, array)\n",
    "    \n",
    "    return array\n",
    "\n",
    "class Solution:\n",
    "    # @param {TreeNode} root\n",
    "    # @return {boolean}\n",
    "    def isValidBST(self, root):\n",
    "        if root is None:\n",
    "            return True\n",
    "            \n",
    "        array = inorder(root, [])\n",
    "        \n",
    "        for i in range(1, len(array)):\n",
    "            if array[i-1] >= array[i]:\n",
    "                return False\n",
    "        \n",
    "        return True"
   ]
  },
  {
   "cell_type": "markdown",
   "metadata": {},
   "source": [
    "## Solution III"
   ]
  },
  {
   "cell_type": "markdown",
   "metadata": {},
   "source": [
    "Since we only need to compare the last appended element to the one before, we can check validitity while transversing the tree"
   ]
  },
  {
   "cell_type": "code",
   "execution_count": null,
   "metadata": {
    "collapsed": true
   },
   "outputs": [],
   "source": [
    "def inorder_check(root, prev_element, prev_check):\n",
    "    \n",
    "    if root is None:\n",
    "        return prev_element, prev_check\n",
    "    \n",
    "    if prev_check == False:\n",
    "        return prev_element, False\n",
    "    \n",
    "    prev_element, prev_check = inorder_check(root.left, prev_element, prev_check)\n",
    "    \n",
    "    if prev_check == True:\n",
    "        if prev_element < root.val:\n",
    "            prev_element = root.val\n",
    "            prev_check = True\n",
    "        else:\n",
    "            prev_check = False\n",
    "    \n",
    "    if prev_check == True:\n",
    "        prev_element, prev_check = inorder_check(root.right, prev_element, prev_check)\n",
    "    \n",
    "    return prev_element, prev_check\n",
    "\n",
    "class Solution:\n",
    "    # @param {TreeNode} root\n",
    "    # @return {boolean}\n",
    "    def isValidBST(self, root):\n",
    "        \n",
    "        prev_check = True\n",
    "        return inorder_check(root, float('-inf'), prev_check)[1]\n",
    "        "
   ]
  },
  {
   "cell_type": "markdown",
   "metadata": {},
   "source": [
    "## Solution IV"
   ]
  },
  {
   "cell_type": "markdown",
   "metadata": {},
   "source": [
    "The above solution can be simplified by using a global variable"
   ]
  },
  {
   "cell_type": "code",
   "execution_count": null,
   "metadata": {
    "collapsed": true
   },
   "outputs": [],
   "source": []
  }
 ],
 "metadata": {
  "kernelspec": {
   "display_name": "Python 2",
   "language": "python",
   "name": "python2"
  },
  "language_info": {
   "codemirror_mode": {
    "name": "ipython",
    "version": 2
   },
   "file_extension": ".py",
   "mimetype": "text/x-python",
   "name": "python",
   "nbconvert_exporter": "python",
   "pygments_lexer": "ipython2",
   "version": "2.7.10"
  }
 },
 "nbformat": 4,
 "nbformat_minor": 0
}
