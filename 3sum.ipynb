{
 "cells": [
  {
   "cell_type": "markdown",
   "metadata": {},
   "source": [
    "> Given an array S of n integers, are there elements a, b, c in S such that a + b + c = 0? Find all unique triplets in the array which gives the sum of zero.\n",
    "\n",
    "> ###Note:\n",
    ">  * Elements in a triplet (a,b,c) must be in non-descending order. (ie, a ≤ b ≤ c)\n",
    ">  * The solution set must not contain duplicate triplets.\n",
    ">    For example, given array S = {-1 0 1 2 -1 -4},\n",
    ">\n",
    ">    A solution set is:\n",
    ">    (-1, 0, 1)\n",
    ">    (-1, -1, 2)"
   ]
  },
  {
   "cell_type": "markdown",
   "metadata": {},
   "source": [
    "##Solution I"
   ]
  },
  {
   "cell_type": "markdown",
   "metadata": {},
   "source": [
    "use a dictionary"
   ]
  },
  {
   "cell_type": "code",
   "execution_count": 8,
   "metadata": {
    "collapsed": true
   },
   "outputs": [],
   "source": [
    "def two_sum(x, nums_dict):\n",
    "    \n",
    "    res = []\n",
    "    \n",
    "    for i in nums_dict:\n",
    "        if i == -x and len(nums_dict) == 1:\n",
    "            continue\n",
    "        if x - i in nums_dict:\n",
    "            if x - i == i and len(nums_dict[i]) > 2:\n",
    "                res.append([i, x-i])\n",
    "            else:\n",
    "                a, b = (i, x - i) if i <= x - i else (x - i, i)\n",
    "                res.append([a, b])\n",
    "    return res\n",
    "\n",
    "def to_dict(nums):\n",
    "    \n",
    "    nums_dict = {}\n",
    "    \n",
    "    for i in range(len(nums)):\n",
    "        if nums[i] in nums_dict:\n",
    "            nums_dict[nums[i]].append(i)\n",
    "        else:\n",
    "            nums_dict[nums[i]] = [i]\n",
    "    \n",
    "    return nums_dict\n",
    "\n",
    "def remove_duplicates(res):\n",
    "    pass \n",
    "def threeSum(nums):\n",
    "        \n",
    "    n = len(nums)\n",
    "    if n < 3:\n",
    "        return None\n",
    "\n",
    "    res = []\n",
    "    nums_dict = to_dict(nums)\n",
    "    for i in nums:\n",
    "        # how to avoid duplicates??\n",
    "        # not easy to avoid duplicate when using dict \n",
    "        two_sum_res = two_sum(-i, nums_dict)\n",
    "\n",
    "        for j in two_sum_res:\n",
    "            a, b = j\n",
    "            if i <= a:\n",
    "                res.append([i, a, b])\n",
    "            elif i >= b:\n",
    "                res.append([a,b,i])\n",
    "            else:\n",
    "                res.append([a,i,b])\n",
    "    \n",
    "    res = remove_duplicates(res)\n",
    "    return res"
   ]
  },
  {
   "cell_type": "markdown",
   "metadata": {},
   "source": [
    "##solution II"
   ]
  },
  {
   "cell_type": "markdown",
   "metadata": {},
   "source": [
    "also use a dictionary, but with a clearer logic"
   ]
  },
  {
   "cell_type": "code",
   "execution_count": 40,
   "metadata": {
    "collapsed": true
   },
   "outputs": [],
   "source": [
    "def hash_nums(nums):\n",
    "    d = {}\n",
    "    for i in range(len(nums)):\n",
    "        if nums[i] in d:\n",
    "            d[nums[i]].append(i)\n",
    "        else:\n",
    "            d[nums[i]] = [i]\n",
    "    return d\n",
    "\n",
    "\n",
    "def threeSum(nums):\n",
    "    N = len(nums) \n",
    "    if N < 3:\n",
    "        return []\n",
    "    \n",
    "    d = hash_nums(nums)\n",
    "    res = []\n",
    "    checked = set() # remember the pairs that were already checked to aviod duplicates\n",
    "    # for every pair of index i,j, check if -(nums[i]+nums[j]) is in the dict\n",
    "    for i in range(N):\n",
    "        for j in range(i + 1, N):\n",
    "            pair = (nums[i], nums[j]) if nums[i] <= nums[j] else (nums[j], nums[i])\n",
    "            if pair in checked:\n",
    "                continue\n",
    "            \n",
    "            r = -(nums[i] + nums[j])\n",
    "            if r in d:\n",
    "                if r == nums[i] and len(d[r]) == 1:\n",
    "                    continue\n",
    "                if r == nums[j] and len(d[r]) == 1:\n",
    "                    continue\n",
    "                if r == nums[i] and r == nums[j] and len(d[r]) == 2:\n",
    "                    continue\n",
    "                if r <= pair[0]:\n",
    "                    a_res = [r, pair[0], pair[1]]\n",
    "                elif r >= pair[1]:\n",
    "                    a_res = [ pair[0], pair[1], r]\n",
    "                else:\n",
    "                    a_res = [pair[0],r, pair[1]]\n",
    "                res.append(a_res)\n",
    "\n",
    "                checked.add((a_res[0], a_res[1]))\n",
    "                checked.add((a_res[1], a_res[2]))\n",
    "                checked.add((a_res[0], a_res[2]))\n",
    "    return res"
   ]
  },
  {
   "cell_type": "markdown",
   "metadata": {},
   "source": [
    "##Solution III"
   ]
  },
  {
   "cell_type": "markdown",
   "metadata": {},
   "source": [
    "First sort the array, then use three pointers to find the solution so that a + b + c == 1. The move of the three pointers are as follows:\n",
    "   * fix a at position i (left most)\n",
    "   * put b at position i + 1\n",
    "   * put c at the end of the sorted array\n",
    "   * move b up or c down until found a solution or b == c\n",
    "   \n",
    "We can move b and c this way because of the sorted nature of the the array, otherwise we need to check every two number combination for b and c."
   ]
  },
  {
   "cell_type": "code",
   "execution_count": 83,
   "metadata": {
    "collapsed": true
   },
   "outputs": [],
   "source": [
    "def threeSum(nums):\n",
    "    N = len(nums)\n",
    "    \n",
    "    if N < 3:\n",
    "        return []\n",
    "    \n",
    "    result = []\n",
    "    nums = sorted(nums)\n",
    "    for i in range(N):\n",
    "        if i > 0 and nums[i] == nums[i-1]:\n",
    "            i += 1\n",
    "            continue\n",
    "        a = nums[i]\n",
    "        start = i + 1\n",
    "        end = N - 1\n",
    "        while start < end:\n",
    "            if start > i + 1 and nums[start] == nums[start - 1]:\n",
    "                start += 1\n",
    "                continue\n",
    "            if end < N - 1 and nums[end] == nums[end + 1]:\n",
    "                end -= 1\n",
    "                continue\n",
    "            \n",
    "            b = nums[start]\n",
    "            c = nums[end]\n",
    "            s = a + b + c\n",
    "            if s == 0:\n",
    "                result.append([a,b,c])\n",
    "                start += 1\n",
    "                end -= 1\n",
    "            elif s > 0:\n",
    "                end -= 1\n",
    "            else:\n",
    "                start += 1\n",
    "    return result"
   ]
  },
  {
   "cell_type": "code",
   "execution_count": 84,
   "metadata": {
    "collapsed": false,
    "scrolled": true
   },
   "outputs": [
    {
     "data": {
      "text/plain": [
       "[[-1, -1, 2], [-1, 0, 1]]"
      ]
     },
     "execution_count": 84,
     "metadata": {},
     "output_type": "execute_result"
    }
   ],
   "source": [
    "nums = [-1,0,1,2,-1, -4]\n",
    "# [-4, -1, -1, 0, 1, 2]\n",
    "threeSum(nums)"
   ]
  },
  {
   "cell_type": "code",
   "execution_count": 73,
   "metadata": {
    "collapsed": false
   },
   "outputs": [
    {
     "data": {
      "text/plain": [
       "[-4, -1, -1, 0, 1, 2]"
      ]
     },
     "execution_count": 73,
     "metadata": {},
     "output_type": "execute_result"
    }
   ],
   "source": [
    "sorted(nums)"
   ]
  }
 ],
 "metadata": {
  "kernelspec": {
   "display_name": "Python 2",
   "language": "python",
   "name": "python2"
  },
  "language_info": {
   "codemirror_mode": {
    "name": "ipython",
    "version": 2
   },
   "file_extension": ".py",
   "mimetype": "text/x-python",
   "name": "python",
   "nbconvert_exporter": "python",
   "pygments_lexer": "ipython2",
   "version": "2.7.10"
  }
 },
 "nbformat": 4,
 "nbformat_minor": 0
}
