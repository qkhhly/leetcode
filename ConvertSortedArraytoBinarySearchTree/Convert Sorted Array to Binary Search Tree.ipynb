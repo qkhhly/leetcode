{
 "cells": [
  {
   "cell_type": "markdown",
   "metadata": {},
   "source": [
    "> Given an array where elements are sorted in ascending order, convert it to a height balanced BST.\n",
    "\n",
    "Balanced BST should also be the BST with the minimal depth given that sorted array."
   ]
  },
  {
   "cell_type": "markdown",
   "metadata": {},
   "source": [
    "This should be easily achieved by construct trees recursively. Here I use two pointers to indicate the subarrays used to create subtrees. It would be cleaner in Python to just create subarrays by using ```nums[:mid]``` and ```nums[mid+1:]```. Howerver, that will create extra new lists and use extra space. "
   ]
  },
  {
   "cell_type": "code",
   "execution_count": null,
   "metadata": {
    "collapsed": true
   },
   "outputs": [],
   "source": [
    "# Definition for a binary tree node.\n",
    "# class TreeNode:\n",
    "#     def __init__(self, x):\n",
    "#         self.val = x\n",
    "#         self.left = None\n",
    "#         self.right = None\n",
    "\n",
    "def create_BST(nums, start, end):\n",
    "    \n",
    "    if start > end:\n",
    "        return None\n",
    "    \n",
    "    if start == end:\n",
    "        return TreeNode(nums[start])\n",
    "    \n",
    "    mid = (start + end)/2\n",
    "    \n",
    "    bst = TreeNode(nums[mid])\n",
    "    \n",
    "    s = start\n",
    "    e = mid - 1\n",
    "    bst.left = create_BST(nums, s, e)\n",
    "    \n",
    "    s = mid + 1\n",
    "    e = end\n",
    "    bst.right = create_BST(nums, s, e)\n",
    "    \n",
    "    return bst\n",
    "\n",
    "class Solution:\n",
    "    # @param {integer[]} nums\n",
    "    # @return {TreeNode}\n",
    "    def sortedArrayToBST(self, nums):\n",
    "        \n",
    "        if len(nums) == 0:\n",
    "            return None \n",
    "        \n",
    "        mid = len(nums) / 2\n",
    "        bst = TreeNode(nums[mid])\n",
    "        \n",
    "        start = 0\n",
    "        end = mid - 1\n",
    "        bst.left = create_BST(nums, start, end)\n",
    "        \n",
    "        start = mid + 1\n",
    "        end = len(nums) - 1\n",
    "        bst.right = create_BST(nums, start, end)\n",
    "        \n",
    "        return bst\n",
    "        \n",
    "        "
   ]
  }
 ],
 "metadata": {
  "kernelspec": {
   "display_name": "Python 2",
   "language": "python",
   "name": "python2"
  },
  "language_info": {
   "codemirror_mode": {
    "name": "ipython",
    "version": 2
   },
   "file_extension": ".py",
   "mimetype": "text/x-python",
   "name": "python",
   "nbconvert_exporter": "python",
   "pygments_lexer": "ipython2",
   "version": "2.7.10"
  }
 },
 "nbformat": 4,
 "nbformat_minor": 0
}
