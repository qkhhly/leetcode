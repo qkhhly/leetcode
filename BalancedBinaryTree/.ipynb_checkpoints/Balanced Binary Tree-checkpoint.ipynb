{
 "cells": [
  {
   "cell_type": "markdown",
   "metadata": {},
   "source": [
    "> Given a binary tree, determine if it is height-balanced.\n",
    "> For this problem, a height-balanced binary tree is defined as a binary tree in which the depth of the two subtrees of every node never differ by more than 1."
   ]
  },
  {
   "cell_type": "markdown",
   "metadata": {},
   "source": [
    "# First try\n",
    "\n",
    "* Check if both the left tree and the right tree is balanced or not.\n",
    "\n",
    "* ***Does not work -- if the left tree is balanced and the right tree is balanced, it doesn't necessarily mean that the tree is balanced. ***"
   ]
  },
  {
   "cell_type": "code",
   "execution_count": null,
   "metadata": {
    "collapsed": true
   },
   "outputs": [],
   "source": [
    "class Solution:\n",
    "    # @param {TreeNode} root\n",
    "    # @return {boolean}\n",
    "    def isBalanced(self, root):\n",
    "        if root is None:\n",
    "            return True\n",
    "\n",
    "        left = root.left\n",
    "        right = root.right \n",
    "\n",
    "        if left is None and right is None:\n",
    "            return True\n",
    "        elif left is None:\n",
    "            if right.left is None and right.right is None:\n",
    "                return True\n",
    "            else:\n",
    "                return False\n",
    "        elif right is None:\n",
    "            if left.left is None and left.right is None:\n",
    "                return True\n",
    "            else:\n",
    "                return False \n",
    "        else:\n",
    "            # both are not None, then check \n",
    "            if left.left is None and left.right is None:\n",
    "                if right.left is not None:\n",
    "                    if right.left.right is not None or right.left.left is not None:\n",
    "                        return False \n",
    "                if right.right is not None:\n",
    "                    if right.right.right is not None or right.right.left is not None:\n",
    "                        return False \n",
    "\n",
    "            if right.left is None and right.right is None:\n",
    "                if left.left is not None:\n",
    "                    if left.left.right is not None or left.left.left is not None:\n",
    "                        return False \n",
    "                if left.right is not None:\n",
    "                    if left.right.right is not None or left.right.left is not None:\n",
    "                        return False \n",
    "\n",
    "\n",
    "            return self.isBalanced(left) and self.isBalanced(right)"
   ]
  },
  {
   "cell_type": "markdown",
   "metadata": {},
   "source": [
    "***"
   ]
  },
  {
   "cell_type": "markdown",
   "metadata": {},
   "source": [
    "# Second try\n",
    "* calculate the tree height recursively and use the height to decide whether the left tree, right tree and the tree itself is balanced or not\n",
    "* the following code is easy to understand but not optimal because the height calculation is not reused.\n",
    "* running time is $O(n^2)$"
   ]
  },
  {
   "cell_type": "code",
   "execution_count": null,
   "metadata": {
    "collapsed": true
   },
   "outputs": [],
   "source": [
    "def tree_height(root):\n",
    "\n",
    "    if root is None:\n",
    "        return 0 \n",
    "\n",
    "    return max(tree_height(root.left), tree_height(root.right)) + 1\n",
    "\n",
    "class Solution:\n",
    "    # @param {TreeNode} root\n",
    "    # @return {boolean}\n",
    "    def isBalanced(self, root):\n",
    "\n",
    "        if root is None:\n",
    "            return True\n",
    "\n",
    "        # this is not optimal because the height calculation is repeated\n",
    "        return self.isBalanced(root.left) and\\\n",
    "                self.isBalanced(root.right) and\\\n",
    "                abs(tree_height(root.left) - tree_height(root.right)) <= 1"
   ]
  },
  {
   "cell_type": "code",
   "execution_count": null,
   "metadata": {
    "collapsed": true
   },
   "outputs": [],
   "source": []
  }
 ],
 "metadata": {
  "kernelspec": {
   "display_name": "Python 2",
   "language": "python",
   "name": "python2"
  },
  "language_info": {
   "codemirror_mode": {
    "name": "ipython",
    "version": 2
   },
   "file_extension": ".py",
   "mimetype": "text/x-python",
   "name": "python",
   "nbconvert_exporter": "python",
   "pygments_lexer": "ipython2",
   "version": "2.7.10"
  }
 },
 "nbformat": 4,
 "nbformat_minor": 0
}
