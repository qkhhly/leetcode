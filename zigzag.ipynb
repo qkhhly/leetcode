{
 "cells": [
  {
   "cell_type": "code",
   "execution_count": 1,
   "metadata": {
    "collapsed": true
   },
   "outputs": [],
   "source": [
    "def convert(s, numRows):\n",
    "    \n",
    "    # no need for conversion\n",
    "    if numRows <= 1 or numRows >= len(s):\n",
    "        return s\n",
    "    \n",
    "    zigzag = [[] for i in range(numRows)]\n",
    "    idx = -1\n",
    "    step = 1\n",
    "    # increase the index until it hit numRows - 1, then decrease the index until it hit 0\n",
    "    # so on and so forth\n",
    "    for i in range(len(s)):\n",
    "        idx += step\n",
    "        zigzag[idx].append(s[i])\n",
    "        if idx == 0:\n",
    "            step = 1\n",
    "        if idx == numRows - 1:\n",
    "            step = -1\n",
    "            \n",
    "    return ''.join([''.join(i) for i in zigzag])"
   ]
  }
 ],
 "metadata": {
  "kernelspec": {
   "display_name": "Python 2",
   "language": "python",
   "name": "python2"
  },
  "language_info": {
   "codemirror_mode": {
    "name": "ipython",
    "version": 2
   },
   "file_extension": ".py",
   "mimetype": "text/x-python",
   "name": "python",
   "nbconvert_exporter": "python",
   "pygments_lexer": "ipython2",
   "version": "2.7.10"
  }
 },
 "nbformat": 4,
 "nbformat_minor": 0
}
