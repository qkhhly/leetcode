{
 "cells": [
  {
   "cell_type": "markdown",
   "metadata": {},
   "source": [
    "#Solution I"
   ]
  },
  {
   "cell_type": "markdown",
   "metadata": {},
   "source": [
    "Flip the string and find the longest common substring between the original string and the flipped string\n",
    "\n",
    "***This might not work if there are two copies of the same non-palindromic strings exist at different locations of the string. Finding the longest common substring may find that instead of a palindromic string. We need to check the index of the found longest common substring to avoid this case.***"
   ]
  },
  {
   "cell_type": "markdown",
   "metadata": {},
   "source": [
    "Find longest common substring through dynamic programming. Whenever comparing two characters s1[m] and s2[n], this could be extending a previous substring comparison or starting a new substring comparsion. In the former case, the length should +1 if s1[m]==s2[n], in the later case the length should start counting from 0 again. "
   ]
  },
  {
   "cell_type": "code",
   "execution_count": 5,
   "metadata": {
    "collapsed": true
   },
   "outputs": [],
   "source": [
    "def longest_common_substring(s1, s2):\n",
    "    m = len(s1)\n",
    "    n = len(s2)\n",
    "    \n",
    "    # initialize a table[m][n]\n",
    "    table = [[0] * n for _ in range(m)]\n",
    "    \n",
    "    max_length = 0\n",
    "    max_common_substring_end = 0\n",
    "    \n",
    "    for i in range(n):\n",
    "        if s2[i] == s1[0]:\n",
    "            table[0][i] = 1\n",
    "    for i in range(m):\n",
    "        if s1[i] == s2[0]:\n",
    "            table[i][0] = 1\n",
    "            \n",
    "    for i in range(1, m):\n",
    "        for j in range(1, n):\n",
    "            if s1[i] == s2[j]:\n",
    "                table[i][j] = table[i-1][j-1] + 1\n",
    "                if table[i][j] > max_length:\n",
    "                    max_length = table[i][j]\n",
    "                    max_common_substring_end = i+1\n",
    "            else:\n",
    "                table[i][j] = 0\n",
    "            \n",
    "    \n",
    "    return s1[(max_common_substring_end - max_length):max_common_substring_end]"
   ]
  },
  {
   "cell_type": "code",
   "execution_count": 8,
   "metadata": {
    "collapsed": true
   },
   "outputs": [],
   "source": [
    "def longest_common_substring2(s1, s2):\n",
    "    '''use two rows only, instead of a actual table'''\n",
    "    m = len(s1)\n",
    "    n = len(s2)\n",
    "    \n",
    "    # initialize a table[m][n]\n",
    "    # use two rows instead of a actual table\n",
    "    row1 = [0] * n\n",
    "    row2 = [0] * n\n",
    "    \n",
    "    max_length = 0\n",
    "    max_common_substring_end = 0\n",
    "    \n",
    "    for i in range(n):\n",
    "        if s2[i] == s1[0]:\n",
    "            row1[i] = 1\n",
    "\n",
    "    for i in range(1, m):\n",
    "        if s1[i] == s2[0]:\n",
    "            row2[0] = 1\n",
    "        for j in range(1, n):\n",
    "            if s1[i] == s2[j]:\n",
    "                row2[j] = row1[j-1] + 1\n",
    "                if row2[j] > max_length:\n",
    "                    max_length = row2[j]\n",
    "                    max_common_substring_end = i+1\n",
    "            else:\n",
    "                row2[j] = 0\n",
    "        \n",
    "        t = row1\n",
    "        row1 = row2\n",
    "        row2 = t\n",
    "            \n",
    "    \n",
    "    return s1[(max_common_substring_end - max_length):max_common_substring_end]"
   ]
  },
  {
   "cell_type": "code",
   "execution_count": 12,
   "metadata": {
    "collapsed": false
   },
   "outputs": [
    {
     "name": "stdout",
     "output_type": "stream",
     "text": [
      "lbabl\n",
      "lbabl\n"
     ]
    }
   ],
   "source": [
    "a = \"lcnvoknqgejxbfhijmxglisfzjwbtvhodwummdqeggzfczmetrdnoetmcydwddmtubcqmdjwnpzdqcdhplxtezctvgnpobnnscrmeqkwgiedhzsvskrxwfyklynkplbgefjbyhlgmkkfpwngdkvwmbdskvagkcfsidrdgwgmnqjtdbtltzwxaokrvbxqqqhljszmefsyewwggylpugmdmemvcnlugipqdjnriythsanfdxpvbatsnatmlusspqizgknabhnqayeuzflkuysqyhfxojhfponsndytvjpbzlbfzjhmwoxcbwvhnvnzwmkhjxvuszgtqhctbqsxnasnhrusodeqmzrlcsrafghbqjpyklaaqximcjmpsxpzbyxqvpexytrhwhmrkuybtvqhwxdqhsnbecpfiudaqpzsvfaywvkhargputojdxonvlprzwvrjlmvqmrlftzbytqdusgeupuofhgonqoyffhmartpcbgybshllnjaapaixdbbljvjomdrrgfeqhwffcknmcqbhvulwiwmsxntropqzefwboozphjectnudtvzzlcmeruszqxvjgikcpfclnrayokxsqxpicfkvaerljmxchwcmxhtbwitsexfqowsflgzzeynuzhtzdaixhjtnielbablmckqzcccalpuyahwowqpcskjencokprybrpmpdnswslpunohafvminfolekdleusuaeiatdqsoatputmymqvxjqpikumgmxaxidlrlfmrhpkzmnxjtvdnopcgsiedvtfkltvplfcfflmwyqffktsmpezbxlnjegdlrcubwqvhxdammpkwkycrqtegepyxtohspeasrdtinjhbesilsvffnzznltsspjwuogdyzvanalohmzrywdwqqcukjceothydlgtocukc\"\n",
    "b = \"lejyqjcpluiggwlmnumqpxljlcwdsirzwlygexejhvojztcztectzrepsvwssiixfmpbzshpilmojehqyqpzdylxptsbvkgatzdlzphohntysrbrcdgeaiypmaaqilthipjbckkfbxtkreohabrjpmelxidlwdajmkndsdbbaypcemrwlhwbwaljacijjmsaqembgtdcskejplifnuztlmvasbqcyzmvczpkimpbbwxdtviptzaenkbddaauyvqppagvqfpednnckooxzcpuudckakutqyknuqrxjgfdtsxsoztjkqvfvelrklforpjnrbvyyvxigjhkjmxcphjzzilvbjbvwiwnnkbmboiqamgoimujtswdqesighoxsprhnsceshotakvmoxqkqjvbpqucvafiuqwmrlfjpjijbctfupywkbawquchbclgvhxbanybret\"\n",
    "a = a + a\n",
    "print longest_common_substring(a, a[::-1])\n",
    "print longest_common_substring2(a, a[::-1])"
   ]
  },
  {
   "cell_type": "markdown",
   "metadata": {},
   "source": [
    "***This exceeds the time limit of leetcode***"
   ]
  },
  {
   "cell_type": "markdown",
   "metadata": {},
   "source": [
    "#Solution II"
   ]
  },
  {
   "cell_type": "markdown",
   "metadata": {},
   "source": [
    "Simply expand from all possible centers and each time check how long the palindromic substring we can get. There are $2N+1$ possible centers for the parlindromic substring (the string can center at a character or in between two characters)."
   ]
  },
  {
   "cell_type": "code",
   "execution_count": null,
   "metadata": {
    "collapsed": true
   },
   "outputs": [],
   "source": [
    "def expand_at_character(center, s):\n",
    "    \n",
    "    palindromic_length = 1\n",
    "    \n",
    "    for i in range(1, min(center + 1, len(s) - center)):\n",
    "        if s[center - i] == s[center + i]:\n",
    "            palindromic_length += 2\n",
    "        else:\n",
    "            break\n",
    "    \n",
    "    return palindromic_length\n",
    "\n",
    "def expand_inbetween_character(center, s):\n",
    "    palindromic_length = 0\n",
    "    \n",
    "    for i in range(min(center+1, len(s) - center - 1)):\n",
    "        if s[center - i] == s[center + i + 1]:\n",
    "            palindromic_length += 2\n",
    "        else:\n",
    "            break\n",
    "    \n",
    "    return palindromic_length\n",
    "\n",
    "\n",
    "def longest_parlindromic(s):\n",
    "    if len(s) == 0:\n",
    "        return ''\n",
    "    \n",
    "    N = len(s)\n",
    "    max_palindromic_length = -1\n",
    "    max_palindromic = s[0]\n",
    "    for center in range(N):\n",
    "        length_at_center = expand_at_character(center, s)\n",
    "        if length_at_center > max_palindromic_length:\n",
    "            max_palindromic_length = length_at_center\n",
    "            half = (max_palindromic_length - 1)/2\n",
    "            max_palindromic = s[(center - half):(center + half + 1)]\n",
    "    \n",
    "    for center in range(N-1):\n",
    "        length_at_center = expand_inbetween_character(center, s)\n",
    "        if length_at_center > max_palindromic_length:\n",
    "            max_palindromic_length = length_at_center\n",
    "            half = max_palindromic_length/2\n",
    "            max_palindromic = s[(center - half + 1):(center + half+1)]\n",
    "        \n",
    "    \n",
    "    return max_palindromic"
   ]
  },
  {
   "cell_type": "markdown",
   "metadata": {},
   "source": [
    "#Solution III"
   ]
  },
  {
   "cell_type": "markdown",
   "metadata": {},
   "source": [
    "There is also Manacher’s algorithm that takes O(N) time to find the longest palindromic substring."
   ]
  },
  {
   "cell_type": "code",
   "execution_count": null,
   "metadata": {
    "collapsed": true
   },
   "outputs": [],
   "source": []
  }
 ],
 "metadata": {
  "kernelspec": {
   "display_name": "Python 2",
   "language": "python",
   "name": "python2"
  },
  "language_info": {
   "codemirror_mode": {
    "name": "ipython",
    "version": 2
   },
   "file_extension": ".py",
   "mimetype": "text/x-python",
   "name": "python",
   "nbconvert_exporter": "python",
   "pygments_lexer": "ipython2",
   "version": "2.7.10"
  }
 },
 "nbformat": 4,
 "nbformat_minor": 0
}
