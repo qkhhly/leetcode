{
 "cells": [
  {
   "cell_type": "markdown",
   "metadata": {},
   "source": [
    "> Given n non-negative integers a1, a2, ..., an, where each represents a point at coordinate (i, ai). n vertical lines are drawn such that the two endpoints of line i is at (i, ai) and (i, 0). Find two lines, which together with x-axis forms a container, such that the container contains the most water.\n",
    "\n",
    "> Note: You may not slant the container."
   ]
  },
  {
   "cell_type": "markdown",
   "metadata": {},
   "source": [
    "We only need to move two pointers, one from the begining and one from the end. We only move the pointer that is pointing to the shorter of the two pointers. We won't miss the max area this way. \n",
    "\n",
    "***Why?***\n",
    "If there is a containter that has the max area that we will miss using this method of moving pointers, that means somewhere furhter away from the two bounds, there is line that higher than both bounds. However this means the container is not the one with max area because of that higher line..."
   ]
  },
  {
   "cell_type": "code",
   "execution_count": null,
   "metadata": {
    "collapsed": true
   },
   "outputs": [],
   "source": [
    "def maxArea(height):\n",
    "    \n",
    "    max_area = 0\n",
    "    s = 0\n",
    "    e = len(height) - 1\n",
    "\n",
    "    while s < e:\n",
    "        area = (e - s) * min(height[s], height[e])\n",
    "\n",
    "        if area > max_area:\n",
    "            max_area = area\n",
    "\n",
    "        if height[s] <= height[e]:\n",
    "            s += 1\n",
    "            while s < e and height[s-1] >= height[s]:\n",
    "                s += 1\n",
    "        else:\n",
    "            e -= 1\n",
    "            while s < e and height[e+1] >= height[e]:\n",
    "                e -= 1\n",
    "\n",
    "    return max_area"
   ]
  }
 ],
 "metadata": {
  "kernelspec": {
   "display_name": "Python 2",
   "language": "python",
   "name": "python2"
  },
  "language_info": {
   "codemirror_mode": {
    "name": "ipython",
    "version": 2
   },
   "file_extension": ".py",
   "mimetype": "text/x-python",
   "name": "python",
   "nbconvert_exporter": "python",
   "pygments_lexer": "ipython2",
   "version": "2.7.10"
  }
 },
 "nbformat": 4,
 "nbformat_minor": 0
}
