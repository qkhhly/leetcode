{
 "cells": [
  {
   "cell_type": "markdown",
   "metadata": {},
   "source": [
    "> Given a singly linked list where elements are sorted in ascending order, convert it to a height balanced BST."
   ]
  },
  {
   "cell_type": "markdown",
   "metadata": {},
   "source": [
    "* This should be similar to [Convert Sorted Array to Binary Search Tree](https://github.com/qkhhly/leetcode/blob/master/ConvertSortedArraytoBinarySearchTree/Convert%20Sorted%20Array%20to%20Binary%20Search%20Tree.ipynb). \n",
    "\n",
    "* One simple method is to index the nodes in the linked list. Since what actually index in Python is the reference to each node, this should not incured too much extra storage. After indexing, it can be run the same as [Convert Sorted Array to Binary Search Tree](https://github.com/qkhhly/leetcode/blob/master/ConvertSortedArraytoBinarySearchTree/Convert%20Sorted%20Array%20to%20Binary%20Search%20Tree.ipynb).\n",
    "\n",
    "* To avoid using extra space. I need to find the middle point of the linked list. I move two pointers down the list, A moves two steps at a time and B moves one step at a time. When A reachs the end, B should at the middle of the linked list. "
   ]
  },
  {
   "cell_type": "markdown",
   "metadata": {},
   "source": [
    "***The following solution exceeds the time limit in leetcode, not sure why yet***"
   ]
  },
  {
   "cell_type": "code",
   "execution_count": null,
   "metadata": {
    "collapsed": true
   },
   "outputs": [],
   "source": [
    "# Definition for singly-linked list.\n",
    "# class ListNode:\n",
    "#     def __init__(self, x):\n",
    "#         self.val = x\n",
    "#         self.next = None\n",
    "\n",
    "# Definition for a binary tree node.\n",
    "# class TreeNode:\n",
    "#     def __init__(self, x):\n",
    "#         self.val = x\n",
    "#         self.left = None\n",
    "#         self.right = None\n",
    "\n",
    "def find_middle(head, end):\n",
    "    one_step = head\n",
    "    two_step = head\n",
    "    \n",
    "    while two_step is not end and two_step.next is not end:\n",
    "        two_step = two_step.next.next\n",
    "        one_step = one_step.next\n",
    "            \n",
    "    return one_step\n",
    "\n",
    "def create_BST(start, end):\n",
    "    \n",
    "    if start is None:\n",
    "        return None\n",
    "    \n",
    "    if start is end:\n",
    "        return TreeNode(start.val)\n",
    "        \n",
    "    mid = find_middle(start, end)\n",
    "    \n",
    "    bst = TreeNode(mid.val)\n",
    "    s = start\n",
    "    e = mid\n",
    "    bst.left = create_BST(s, e)\n",
    "    \n",
    "    s = mid.next\n",
    "    e = end\n",
    "    bst.right = create_BST(s, e)\n",
    "    \n",
    "    return bst\n",
    "\n",
    "class Solution:\n",
    "    # @param {ListNode} head\n",
    "    # @return {TreeNode}\n",
    "    def sortedListToBST(self, head):\n",
    "        \n",
    "        if head is None:\n",
    "            return None\n",
    "        \n",
    "        mid = find_middle(head, None)\n",
    "        bst = TreeNode(mid.val)\n",
    "        bst.left = create_BST(head, mid)\n",
    "        bst.right = create_BST(mid.next, None)\n",
    "        \n",
    "        return bst\n",
    "        "
   ]
  }
 ],
 "metadata": {
  "kernelspec": {
   "display_name": "Python 2",
   "language": "python",
   "name": "python2"
  },
  "language_info": {
   "codemirror_mode": {
    "name": "ipython",
    "version": 2
   },
   "file_extension": ".py",
   "mimetype": "text/x-python",
   "name": "python",
   "nbconvert_exporter": "python",
   "pygments_lexer": "ipython2",
   "version": "2.7.10"
  }
 },
 "nbformat": 4,
 "nbformat_minor": 0
}
